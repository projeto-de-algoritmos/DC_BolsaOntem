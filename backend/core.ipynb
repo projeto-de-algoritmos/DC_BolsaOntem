{
 "cells": [
  {
   "cell_type": "code",
   "execution_count": 1,
   "id": "778799b5",
   "metadata": {},
   "outputs": [],
   "source": [
    "import pandas as pd\n",
    "import warnings\n",
    "warnings.filterwarnings('ignore')"
   ]
  },
  {
   "cell_type": "code",
   "execution_count": 17,
   "id": "6f193553",
   "metadata": {},
   "outputs": [],
   "source": [
    "## Buscando codigos das acoes que existe na Bovespa e do dia de hoje\n",
    "# pip3 install lxml\n",
    "url = ('https://www.dadosdemercado.com.br/bolsa/acoes')\n",
    "data = pd.read_html(url)\n",
    "df = data[0]"
   ]
  },
  {
   "cell_type": "code",
   "execution_count": 19,
   "id": "24b0a522",
   "metadata": {},
   "outputs": [],
   "source": [
    "df.drop(['Volume', 'Variação', 'Unnamed: 5'], axis=1, inplace=True)"
   ]
  },
  {
   "cell_type": "code",
   "execution_count": 20,
   "id": "2e0156ab",
   "metadata": {},
   "outputs": [],
   "source": [
    "df['Última (R$)'] = df['Última (R$)'].str.replace('.', '').str.replace(',', '.')\n",
    "df['Última (R$)'] = df['Última (R$)'].astype(float)\n",
    "df['Última (R$)'] = df['Última (R$)']/100"
   ]
  },
  {
   "cell_type": "code",
   "execution_count": 21,
   "id": "f456ffc2",
   "metadata": {},
   "outputs": [],
   "source": [
    "def median_of_medians(lst, target_value):\n",
    "    if len(lst) <= 5:\n",
    "        return sorted(lst)[len(lst) // 2]\n",
    "\n",
    "    groups = [lst[i:i + 5] for i in range(0, len(lst), 5)]\n",
    "    medians = [median_of_medians(group, target_value) for group in groups]\n",
    "\n",
    "    pivot = median_of_medians(medians, target_value)\n",
    "\n",
    "    lower = [x for x in lst if x < pivot]\n",
    "    upper = [x for x in lst if x > pivot]\n",
    "    equal = [x for x in lst if x == pivot]\n",
    "\n",
    "    if len(lower) > 0 and max(lower) >= target_value:\n",
    "        return median_of_medians(lower, target_value)\n",
    "    elif len(upper) > 0 and min(upper) <= target_value:\n",
    "        return median_of_medians(upper, target_value)\n",
    "    else:\n",
    "        return min(equal, key=lambda x: abs(x - target_value))"
   ]
  },
  {
   "cell_type": "code",
   "execution_count": 37,
   "id": "6794036e",
   "metadata": {},
   "outputs": [],
   "source": [
    "## Informe o valor da ação que deseja comprar abaixo (use ponto para seprar os centavos):\n",
    "valor_desejado = 1.16"
   ]
  },
  {
   "cell_type": "code",
   "execution_count": 38,
   "id": "95ca80f6",
   "metadata": {},
   "outputs": [],
   "source": [
    "closest_price = median_of_medians(df['Última (R$)'].tolist(), valor_desejado)\n",
    "row = df[df['Última (R$)'] == closest_price]"
   ]
  },
  {
   "cell_type": "code",
   "execution_count": 39,
   "id": "e77668ac",
   "metadata": {},
   "outputs": [
    {
     "name": "stdout",
     "output_type": "stream",
     "text": [
      "Código: ATMP3\n",
      "Nome: Atma\n",
      "Valor: 1.19\n"
     ]
    }
   ],
   "source": [
    "codigo = row['Código'].values[0]\n",
    "nome = row['Nome'].values[0]\n",
    "valor = row['Última (R$)'].values[0]\n",
    "\n",
    "print(\"Código:\", codigo)\n",
    "print(\"Nome:\", nome)\n",
    "print(\"Valor:\", valor)"
   ]
  },
  {
   "cell_type": "code",
   "execution_count": null,
   "id": "b5691a42",
   "metadata": {},
   "outputs": [],
   "source": []
  }
 ],
 "metadata": {
  "kernelspec": {
   "display_name": "Python 3 (ipykernel)",
   "language": "python",
   "name": "python3"
  },
  "language_info": {
   "codemirror_mode": {
    "name": "ipython",
    "version": 3
   },
   "file_extension": ".py",
   "mimetype": "text/x-python",
   "name": "python",
   "nbconvert_exporter": "python",
   "pygments_lexer": "ipython3",
   "version": "3.9.12"
  }
 },
 "nbformat": 4,
 "nbformat_minor": 5
}
